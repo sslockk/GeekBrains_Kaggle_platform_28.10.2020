{
 "cells": [
  {
   "cell_type": "markdown",
   "metadata": {},
   "source": [
    "В домашнем задании, будем обучать разные алгоритмы машинного обучения. Для этого, нужно предварительно зафиксировать схему валидации решения (можете выбрать любую, которую знаете). Выбранную схему валидации нужно использовать во всех задачах этого домашнего задания. Метрика качества - ROC AUC, целевая переменная - isFraud.\n",
    "Ссылка на данные - https://drive.google.com/file/d/1gMEVl47pIoV1-AseB9doQ6DZNJrY3NkW/view?usp=sharing\n",
    "\n",
    "Задание 1: отобрать только числовые признаки и обучить модель XGBoost с параметром booster = gbtree. Обучать алгоритм до тех пор, пока метрика качества не перестанет улучшаться на валидационной выборке в течение определенного числа итераций (выбрать значение самостоятельно).\n",
    "\n",
    "Задание 2: обработать категориальные признаки любым способом (который вы знаете) и добавить их к данным. Выполнить задание 1.\n",
    "\n",
    "Задание 4: для числовых признаков обучить модель LightGBM. Обучать алгоритм до тех пор, пока метрика качества не перестанет улучшаться на валидационной выборке в течение определенного числа итераций (выбрать значение самостоятельно).\n",
    "\n",
    "Задание 5: обработать категориальные признаки любым способом (который вы знаете) и добавить их к данным. Выполнить задание 4.\n",
    "\n",
    "Задание 6: обработать категориальные признаки встроенным методом в LightGBM. Выполнить задание 4. Сделать выводы о качестве работы алгоритма, по сравнению с пунктом 5.\n",
    "\n",
    "Задание 7: для числовых признаков обучить модель CatBoost. Обучать алгоритм до тех пор, пока метрика качества не перестанет улучшаться на валидационной выборке в течение определенного числа итераций (выбрать значение самостоятельно).\n",
    "\n",
    "Задание 8: обработать категориальные признаки любым способом (который вы знаете) и добавить их к данным. Выполнить задание 7.\n",
    "\n",
    "Задание 9: обработать категориальные признаки встроенным методом в CatBoost. Выполнить задание 7. Сделать выводы о качестве работы алгоритма, по сравнению с пунктом 8.\n",
    "\n",
    "Задание 10: построить ROC-кривую для всех построенных алгоритмов на обучающей и тестовой выборке. Сделать выводы о работе алгоритмов с точки зрения качества на тестовой выборке и с точки зрения переобучения.\n",
    "\n",
    "Задание на повторение:\n",
    "Задание не обязательно к выполнению, но очень рекомендуется для понимания набора данных, этот набор данных будет использован и для следующего домашнего задания.\n",
    "\n",
    "Задание 1: Построить график распределения времени совершения транзакции для обучающей / тестовой выборки, сделать выводы о том, как разбиты данные и какие виды валидации могут подойти для данной задачи.\n",
    "Задание 2: построить scatter-plot зависимости суммы транзакции от времени совершения транзакции. Построить графики для обучающей выборки и для тестовой выборки, для обучающей выборки - построить как для целевой переменной = 0, так и для переменной = 1. Сделать выводы.\n",
    "Задание 3: построить распределение признака TransactionAmt в логарифмическом масштабе, сделать выводы о близости распредления к нормальному распределению. Построить распределение признака в логарифмическому масштабе для обучающей выборк и для тестовой выборки, сделать выводы.\n",
    "Задание 4: построить распределение признака целевой переменной в зависимости от значений категориальных признаков ProductCD, card4, card6. Сделать выводы."
   ]
  },
  {
   "cell_type": "code",
   "execution_count": 22,
   "metadata": {},
   "outputs": [],
   "source": [
    "# ! pip install xgboost"
   ]
  },
  {
   "cell_type": "code",
   "execution_count": 23,
   "metadata": {},
   "outputs": [],
   "source": [
    "# ! pip install lightgbm"
   ]
  },
  {
   "cell_type": "code",
   "execution_count": 3,
   "metadata": {},
   "outputs": [],
   "source": [
    "import numpy as np\n",
    "import pandas as pd\n",
    "import xgboost as xgb\n",
    "import matplotlib.pyplot as plt\n",
    "\n",
    "from sklearn.model_selection import train_test_split\n",
    "from sklearn.metrics import roc_auc_score"
   ]
  },
  {
   "cell_type": "markdown",
   "metadata": {},
   "source": [
    "### Задание 1: отобрать только числовые признаки и обучить модель XGBoost с параметром booster = gbtree. Обучать алгоритм до тех пор, пока метрика качества не перестанет улучшаться на валидационной выборке в течение определенного числа итераций (выбрать значение самостоятельно)."
   ]
  },
  {
   "cell_type": "code",
   "execution_count": 5,
   "metadata": {},
   "outputs": [
    {
     "name": "stdout",
     "output_type": "stream",
     "text": [
      "data.shape = 9221 rows, 394 cols\n"
     ]
    },
    {
     "data": {
      "text/html": [
       "<div>\n",
       "<style scoped>\n",
       "    .dataframe tbody tr th:only-of-type {\n",
       "        vertical-align: middle;\n",
       "    }\n",
       "\n",
       "    .dataframe tbody tr th {\n",
       "        vertical-align: top;\n",
       "    }\n",
       "\n",
       "    .dataframe thead th {\n",
       "        text-align: right;\n",
       "    }\n",
       "</style>\n",
       "<table border=\"1\" class=\"dataframe\">\n",
       "  <thead>\n",
       "    <tr style=\"text-align: right;\">\n",
       "      <th></th>\n",
       "      <th>TransactionID</th>\n",
       "      <th>isFraud</th>\n",
       "      <th>TransactionDT</th>\n",
       "      <th>TransactionAmt</th>\n",
       "      <th>ProductCD</th>\n",
       "      <th>card1</th>\n",
       "      <th>card2</th>\n",
       "      <th>card3</th>\n",
       "      <th>card4</th>\n",
       "      <th>card5</th>\n",
       "      <th>...</th>\n",
       "      <th>V330</th>\n",
       "      <th>V331</th>\n",
       "      <th>V332</th>\n",
       "      <th>V333</th>\n",
       "      <th>V334</th>\n",
       "      <th>V335</th>\n",
       "      <th>V336</th>\n",
       "      <th>V337</th>\n",
       "      <th>V338</th>\n",
       "      <th>V339</th>\n",
       "    </tr>\n",
       "  </thead>\n",
       "  <tbody>\n",
       "    <tr>\n",
       "      <th>0</th>\n",
       "      <td>2987000</td>\n",
       "      <td>0</td>\n",
       "      <td>86400</td>\n",
       "      <td>68.5</td>\n",
       "      <td>W</td>\n",
       "      <td>13926</td>\n",
       "      <td>NaN</td>\n",
       "      <td>150.0</td>\n",
       "      <td>discover</td>\n",
       "      <td>142.0</td>\n",
       "      <td>...</td>\n",
       "      <td>NaN</td>\n",
       "      <td>NaN</td>\n",
       "      <td>NaN</td>\n",
       "      <td>NaN</td>\n",
       "      <td>NaN</td>\n",
       "      <td>NaN</td>\n",
       "      <td>NaN</td>\n",
       "      <td>NaN</td>\n",
       "      <td>NaN</td>\n",
       "      <td>NaN</td>\n",
       "    </tr>\n",
       "    <tr>\n",
       "      <th>1</th>\n",
       "      <td>2987001</td>\n",
       "      <td>0</td>\n",
       "      <td>86401</td>\n",
       "      <td>29.0</td>\n",
       "      <td>W</td>\n",
       "      <td>2755</td>\n",
       "      <td>404.0</td>\n",
       "      <td>150.0</td>\n",
       "      <td>mastercard</td>\n",
       "      <td>102.0</td>\n",
       "      <td>...</td>\n",
       "      <td>NaN</td>\n",
       "      <td>NaN</td>\n",
       "      <td>NaN</td>\n",
       "      <td>NaN</td>\n",
       "      <td>NaN</td>\n",
       "      <td>NaN</td>\n",
       "      <td>NaN</td>\n",
       "      <td>NaN</td>\n",
       "      <td>NaN</td>\n",
       "      <td>NaN</td>\n",
       "    </tr>\n",
       "  </tbody>\n",
       "</table>\n",
       "<p>2 rows × 394 columns</p>\n",
       "</div>"
      ],
      "text/plain": [
       "   TransactionID  isFraud  TransactionDT  TransactionAmt ProductCD  card1  \\\n",
       "0        2987000        0          86400            68.5         W  13926   \n",
       "1        2987001        0          86401            29.0         W   2755   \n",
       "\n",
       "   card2  card3       card4  card5  ... V330  V331  V332  V333  V334 V335  \\\n",
       "0    NaN  150.0    discover  142.0  ...  NaN   NaN   NaN   NaN   NaN  NaN   \n",
       "1  404.0  150.0  mastercard  102.0  ...  NaN   NaN   NaN   NaN   NaN  NaN   \n",
       "\n",
       "  V336  V337  V338  V339  \n",
       "0  NaN   NaN   NaN   NaN  \n",
       "1  NaN   NaN   NaN   NaN  \n",
       "\n",
       "[2 rows x 394 columns]"
      ]
     },
     "execution_count": 5,
     "metadata": {},
     "output_type": "execute_result"
    }
   ],
   "source": [
    "train = pd.read_csv(\n",
    "    \"assignment2_data/assignment_2_train.csv\"\n",
    ")\n",
    "print(\"data.shape = {} rows, {} cols\".format(*train.shape))\n",
    "train.head(n=2)"
   ]
  },
  {
   "cell_type": "code",
   "execution_count": 6,
   "metadata": {},
   "outputs": [
    {
     "name": "stdout",
     "output_type": "stream",
     "text": [
      "<class 'pandas.core.frame.DataFrame'>\n",
      "RangeIndex: 9221 entries, 0 to 9220\n",
      "Columns: 394 entries, TransactionID to V339\n",
      "dtypes: float64(376), int64(4), object(14)\n",
      "memory usage: 27.7+ MB\n"
     ]
    }
   ],
   "source": [
    "train.info()"
   ]
  },
  {
   "cell_type": "code",
   "execution_count": 7,
   "metadata": {},
   "outputs": [
    {
     "name": "stdout",
     "output_type": "stream",
     "text": [
      "data.shape = 8676 rows, 394 cols\n"
     ]
    },
    {
     "data": {
      "text/html": [
       "<div>\n",
       "<style scoped>\n",
       "    .dataframe tbody tr th:only-of-type {\n",
       "        vertical-align: middle;\n",
       "    }\n",
       "\n",
       "    .dataframe tbody tr th {\n",
       "        vertical-align: top;\n",
       "    }\n",
       "\n",
       "    .dataframe thead th {\n",
       "        text-align: right;\n",
       "    }\n",
       "</style>\n",
       "<table border=\"1\" class=\"dataframe\">\n",
       "  <thead>\n",
       "    <tr style=\"text-align: right;\">\n",
       "      <th></th>\n",
       "      <th>TransactionID</th>\n",
       "      <th>isFraud</th>\n",
       "      <th>TransactionDT</th>\n",
       "      <th>TransactionAmt</th>\n",
       "      <th>ProductCD</th>\n",
       "      <th>card1</th>\n",
       "      <th>card2</th>\n",
       "      <th>card3</th>\n",
       "      <th>card4</th>\n",
       "      <th>card5</th>\n",
       "      <th>...</th>\n",
       "      <th>V330</th>\n",
       "      <th>V331</th>\n",
       "      <th>V332</th>\n",
       "      <th>V333</th>\n",
       "      <th>V334</th>\n",
       "      <th>V335</th>\n",
       "      <th>V336</th>\n",
       "      <th>V337</th>\n",
       "      <th>V338</th>\n",
       "      <th>V339</th>\n",
       "    </tr>\n",
       "  </thead>\n",
       "  <tbody>\n",
       "    <tr>\n",
       "      <th>0</th>\n",
       "      <td>3287000</td>\n",
       "      <td>1</td>\n",
       "      <td>7415038</td>\n",
       "      <td>226.0</td>\n",
       "      <td>W</td>\n",
       "      <td>12473</td>\n",
       "      <td>555.0</td>\n",
       "      <td>150.0</td>\n",
       "      <td>visa</td>\n",
       "      <td>226.0</td>\n",
       "      <td>...</td>\n",
       "      <td>NaN</td>\n",
       "      <td>NaN</td>\n",
       "      <td>NaN</td>\n",
       "      <td>NaN</td>\n",
       "      <td>NaN</td>\n",
       "      <td>NaN</td>\n",
       "      <td>NaN</td>\n",
       "      <td>NaN</td>\n",
       "      <td>NaN</td>\n",
       "      <td>NaN</td>\n",
       "    </tr>\n",
       "    <tr>\n",
       "      <th>1</th>\n",
       "      <td>3287001</td>\n",
       "      <td>0</td>\n",
       "      <td>7415054</td>\n",
       "      <td>3072.0</td>\n",
       "      <td>W</td>\n",
       "      <td>15651</td>\n",
       "      <td>417.0</td>\n",
       "      <td>150.0</td>\n",
       "      <td>visa</td>\n",
       "      <td>226.0</td>\n",
       "      <td>...</td>\n",
       "      <td>NaN</td>\n",
       "      <td>NaN</td>\n",
       "      <td>NaN</td>\n",
       "      <td>NaN</td>\n",
       "      <td>NaN</td>\n",
       "      <td>NaN</td>\n",
       "      <td>NaN</td>\n",
       "      <td>NaN</td>\n",
       "      <td>NaN</td>\n",
       "      <td>NaN</td>\n",
       "    </tr>\n",
       "  </tbody>\n",
       "</table>\n",
       "<p>2 rows × 394 columns</p>\n",
       "</div>"
      ],
      "text/plain": [
       "   TransactionID  isFraud  TransactionDT  TransactionAmt ProductCD  card1  \\\n",
       "0        3287000        1        7415038           226.0         W  12473   \n",
       "1        3287001        0        7415054          3072.0         W  15651   \n",
       "\n",
       "   card2  card3 card4  card5  ... V330  V331  V332  V333  V334 V335 V336  \\\n",
       "0  555.0  150.0  visa  226.0  ...  NaN   NaN   NaN   NaN   NaN  NaN  NaN   \n",
       "1  417.0  150.0  visa  226.0  ...  NaN   NaN   NaN   NaN   NaN  NaN  NaN   \n",
       "\n",
       "   V337  V338  V339  \n",
       "0   NaN   NaN   NaN  \n",
       "1   NaN   NaN   NaN  \n",
       "\n",
       "[2 rows x 394 columns]"
      ]
     },
     "execution_count": 7,
     "metadata": {},
     "output_type": "execute_result"
    }
   ],
   "source": [
    "test_data = pd.read_csv(\n",
    "    \"assignment2_data/assignment_2_test.csv\"\n",
    ")\n",
    "print(\"data.shape = {} rows, {} cols\".format(*test_data.shape))\n",
    "test_data.head(n=2)"
   ]
  },
  {
   "cell_type": "code",
   "execution_count": 8,
   "metadata": {},
   "outputs": [
    {
     "name": "stdout",
     "output_type": "stream",
     "text": [
      "data.shape = 9221 rows, 393 cols\n"
     ]
    }
   ],
   "source": [
    "train_target = train[\"isFraud\"]\n",
    "train_data = train.drop([\"isFraud\"], axis=1)\n",
    "print(\"data.shape = {} rows, {} cols\".format(*train_data.shape))"
   ]
  },
  {
   "cell_type": "code",
   "execution_count": 9,
   "metadata": {},
   "outputs": [],
   "source": [
    "train_data_numerical = train_data.select_dtypes(include=[np.number])"
   ]
  },
  {
   "cell_type": "code",
   "execution_count": 10,
   "metadata": {},
   "outputs": [
    {
     "name": "stdout",
     "output_type": "stream",
     "text": [
      "x_train.shape = 7376 rows, 379 cols\n",
      "x_valid.shape = 1845 rows, 379 cols\n"
     ]
    }
   ],
   "source": [
    "x_train, x_valid = train_test_split(\n",
    "    train_data_numerical, train_size=0.8, random_state=1\n",
    ")\n",
    "y_train, y_valid = train_test_split(\n",
    "    train_target, train_size=0.8, random_state=1\n",
    ")\n",
    "print(\"x_train.shape = {} rows, {} cols\".format(*x_train.shape))\n",
    "print(\"x_valid.shape = {} rows, {} cols\".format(*x_valid.shape))"
   ]
  },
  {
   "cell_type": "code",
   "execution_count": 11,
   "metadata": {},
   "outputs": [],
   "source": [
    "# XGBoost API\n",
    "params = {\n",
    "    \"booster\": \"gbtree\",\n",
    "    \"objective\": \"binary:logistic\",\n",
    "    \"eval_metric\": \"auc\",\n",
    "    \"learning_rate\": 0.1,\n",
    "    \"n_estimators\": 1000,\n",
    "    \"reg_lambda\": 100,\n",
    "    \"max_depth\": 4,\n",
    "    \"gamma\": 10,\n",
    "    \"nthread\": 6,\n",
    "    \"seed\": 27\n",
    "}"
   ]
  },
  {
   "cell_type": "code",
   "execution_count": 12,
   "metadata": {},
   "outputs": [],
   "source": [
    "dtrain = xgb.DMatrix(\n",
    "    data=x_train, label=y_train\n",
    ")\n",
    "dvalid = xgb.DMatrix(\n",
    "    data=x_valid, label=y_valid\n",
    ")"
   ]
  },
  {
   "cell_type": "code",
   "execution_count": 13,
   "metadata": {},
   "outputs": [
    {
     "name": "stdout",
     "output_type": "stream",
     "text": [
      "[12:52:43] WARNING: C:\\Users\\Administrator\\workspace\\xgboost-win64_release_1.2.0\\src\\learner.cc:516: \n",
      "Parameters: { n_estimators } might not be used.\n",
      "\n",
      "  This may not be accurate due to some parameters are only used in language bindings but\n",
      "  passed down to XGBoost core.  Or some parameters are not used but slip through this\n",
      "  verification. Please open an issue if you find above cases.\n",
      "\n",
      "\n",
      "[0]\ttrain-auc:0.61220\tvalid-auc:0.64676\n",
      "Multiple eval metrics have been passed: 'valid-auc' will be used for early stopping.\n",
      "\n",
      "Will train until valid-auc hasn't improved in 50 rounds.\n",
      "[9]\ttrain-auc:0.64756\tvalid-auc:0.67064\n"
     ]
    }
   ],
   "source": [
    "model = xgb.train(\n",
    "    params=params,\n",
    "    dtrain=dtrain,\n",
    "    num_boost_round=10,\n",
    "    early_stopping_rounds=50,\n",
    "    evals=[(dtrain, \"train\"), (dvalid, \"valid\")],\n",
    "    verbose_eval=10,\n",
    "    maximize=True,\n",
    ")"
   ]
  },
  {
   "cell_type": "code",
   "execution_count": 14,
   "metadata": {},
   "outputs": [],
   "source": [
    "# ! pip install pydot\n",
    "# ! pip install pydotplus\n",
    "# ! pip install graphviz"
   ]
  },
  {
   "cell_type": "code",
   "execution_count": 15,
   "metadata": {
    "scrolled": true
   },
   "outputs": [],
   "source": [
    "# fig, axes = plt.subplots(1, 1, figsize=(40, 40))\n",
    "# xgb.plot_tree(model, num_trees=2, ax=axes)"
   ]
  },
  {
   "cell_type": "code",
   "execution_count": 16,
   "metadata": {},
   "outputs": [
    {
     "name": "stdout",
     "output_type": "stream",
     "text": [
      "[12:52:44] WARNING: C:\\Users\\Administrator\\workspace\\xgboost-win64_release_1.2.0\\src\\learner.cc:516: \n",
      "Parameters: { n_estimators } might not be used.\n",
      "\n",
      "  This may not be accurate due to some parameters are only used in language bindings but\n",
      "  passed down to XGBoost core.  Or some parameters are not used but slip through this\n",
      "  verification. Please open an issue if you find above cases.\n",
      "\n",
      "\n",
      "[12:52:44] WARNING: C:\\Users\\Administrator\\workspace\\xgboost-win64_release_1.2.0\\src\\learner.cc:516: \n",
      "Parameters: { n_estimators } might not be used.\n",
      "\n",
      "  This may not be accurate due to some parameters are only used in language bindings but\n",
      "  passed down to XGBoost core.  Or some parameters are not used but slip through this\n",
      "  verification. Please open an issue if you find above cases.\n",
      "\n",
      "\n",
      "[12:52:44] WARNING: C:\\Users\\Administrator\\workspace\\xgboost-win64_release_1.2.0\\src\\learner.cc:516: \n",
      "Parameters: { n_estimators } might not be used.\n",
      "\n",
      "  This may not be accurate due to some parameters are only used in language bindings but\n",
      "  passed down to XGBoost core.  Or some parameters are not used but slip through this\n",
      "  verification. Please open an issue if you find above cases.\n",
      "\n",
      "\n",
      "[0]\ttrain-auc:0.61483+0.00863\ttest-auc:0.61192+0.01270\n",
      "[25]\ttrain-auc:0.74051+0.04399\ttest-auc:0.69412+0.05646\n",
      "[50]\ttrain-auc:0.79659+0.02550\ttest-auc:0.76320+0.05872\n",
      "[75]\ttrain-auc:0.83401+0.02677\ttest-auc:0.77617+0.05570\n"
     ]
    }
   ],
   "source": [
    "# XGBoost Cross-Validation\n",
    "cv_result = xgb.cv(\n",
    "    params=params,\n",
    "    dtrain=dtrain,\n",
    "    num_boost_round=100,\n",
    "    early_stopping_rounds=25,\n",
    "    verbose_eval=25,\n",
    "    stratified=True,\n",
    "    metrics=\"auc\",\n",
    "    maximize=True,\n",
    "    shuffle=True,\n",
    "    nfold=3,\n",
    ")"
   ]
  },
  {
   "cell_type": "code",
   "execution_count": 17,
   "metadata": {},
   "outputs": [],
   "source": [
    "def plot_evalute(cv_result):\n",
    "    fig = plt.figure(figsize=(15, 5))\n",
    "    plt.plot(cv_result[\"train-auc-mean\"], color=\"blue\", linewidth=3, label=\"train\")\n",
    "    plt.plot(cv_result[\"test-auc-mean\"], color=\"orange\", linewidth=3, label=\"test\")\n",
    "    plt.fill_between(\n",
    "        x=cv_result.index,\n",
    "        y1=cv_result[\"train-auc-mean\"] - cv_result[\"train-auc-std\"],\n",
    "        y2=cv_result[\"train-auc-mean\"] + cv_result[\"train-auc-std\"],\n",
    "        alpha=0.25, color=\"blue\"\n",
    "    )\n",
    "    plt.fill_between(\n",
    "        x=cv_result.index,\n",
    "        y1=cv_result[\"test-auc-mean\"] - cv_result[\"test-auc-std\"],\n",
    "        y2=cv_result[\"test-auc-mean\"] + cv_result[\"test-auc-std\"],\n",
    "        alpha=0.25, color=\"orange\"\n",
    "    )\n",
    "    plt.title(\"XGBoost, CV-Results\", size=14)\n",
    "    plt.xlabel(\"n_iterations\", size=14)\n",
    "    plt.xlim(0, cv_result.index.max())\n",
    "    plt.ylabel(\"ROC-AUC\", size=14)\n",
    "    plt.legend(loc=\"best\")"
   ]
  },
  {
   "cell_type": "code",
   "execution_count": 18,
   "metadata": {},
   "outputs": [
    {
     "data": {
      "image/png": "[encoded data removed]",
      "text/plain": [
       "<Figure size 1080x360 with 1 Axes>"
      ]
     },
     "metadata": {
      "needs_background": "light"
     },
     "output_type": "display_data"
    }
   ],
   "source": [
    "_ = plot_evalute(cv_result)"
   ]
  },
  {
   "cell_type": "markdown",
   "metadata": {},
   "source": [
    "### Задание 2: обработать категориальные признаки любым способом (который вы знаете) и добавить их к данным. Выполнить задание 1."
   ]
  },
  {
   "cell_type": "code",
   "execution_count": 19,
   "metadata": {},
   "outputs": [
    {
     "name": "stdout",
     "output_type": "stream",
     "text": [
      "Categorical Feature Count 14\n"
     ]
    },
    {
     "data": {
      "text/html": [
       "<div>\n",
       "<style scoped>\n",
       "    .dataframe tbody tr th:only-of-type {\n",
       "        vertical-align: middle;\n",
       "    }\n",
       "\n",
       "    .dataframe tbody tr th {\n",
       "        vertical-align: top;\n",
       "    }\n",
       "\n",
       "    .dataframe thead th {\n",
       "        text-align: right;\n",
       "    }\n",
       "</style>\n",
       "<table border=\"1\" class=\"dataframe\">\n",
       "  <thead>\n",
       "    <tr style=\"text-align: right;\">\n",
       "      <th></th>\n",
       "      <th>ProductCD</th>\n",
       "      <th>card4</th>\n",
       "      <th>card6</th>\n",
       "      <th>P_emaildomain</th>\n",
       "      <th>R_emaildomain</th>\n",
       "      <th>M1</th>\n",
       "      <th>M2</th>\n",
       "      <th>M3</th>\n",
       "      <th>M4</th>\n",
       "      <th>M5</th>\n",
       "      <th>M6</th>\n",
       "      <th>M7</th>\n",
       "      <th>M8</th>\n",
       "      <th>M9</th>\n",
       "    </tr>\n",
       "  </thead>\n",
       "  <tbody>\n",
       "    <tr>\n",
       "      <th>0</th>\n",
       "      <td>W</td>\n",
       "      <td>discover</td>\n",
       "      <td>credit</td>\n",
       "      <td>NaN</td>\n",
       "      <td>NaN</td>\n",
       "      <td>T</td>\n",
       "      <td>T</td>\n",
       "      <td>T</td>\n",
       "      <td>M2</td>\n",
       "      <td>F</td>\n",
       "      <td>T</td>\n",
       "      <td>NaN</td>\n",
       "      <td>NaN</td>\n",
       "      <td>NaN</td>\n",
       "    </tr>\n",
       "    <tr>\n",
       "      <th>1</th>\n",
       "      <td>W</td>\n",
       "      <td>mastercard</td>\n",
       "      <td>credit</td>\n",
       "      <td>gmail.com</td>\n",
       "      <td>NaN</td>\n",
       "      <td>NaN</td>\n",
       "      <td>NaN</td>\n",
       "      <td>NaN</td>\n",
       "      <td>M0</td>\n",
       "      <td>T</td>\n",
       "      <td>T</td>\n",
       "      <td>NaN</td>\n",
       "      <td>NaN</td>\n",
       "      <td>NaN</td>\n",
       "    </tr>\n",
       "  </tbody>\n",
       "</table>\n",
       "</div>"
      ],
      "text/plain": [
       "  ProductCD       card4   card6 P_emaildomain R_emaildomain   M1   M2   M3  \\\n",
       "0         W    discover  credit           NaN           NaN    T    T    T   \n",
       "1         W  mastercard  credit     gmail.com           NaN  NaN  NaN  NaN   \n",
       "\n",
       "   M4 M5 M6   M7   M8   M9  \n",
       "0  M2  F  T  NaN  NaN  NaN  \n",
       "1  M0  T  T  NaN  NaN  NaN  "
      ]
     },
     "execution_count": 19,
     "metadata": {},
     "output_type": "execute_result"
    }
   ],
   "source": [
    "# Категориальные признаки\n",
    "categorical_features = train.select_dtypes(include=[np.object])\n",
    "print(f\"Categorical Feature Count {categorical_features.shape[1]}\")\n",
    "categorical_features.head(n=2)"
   ]
  },
  {
   "cell_type": "code",
   "execution_count": 24,
   "metadata": {},
   "outputs": [],
   "source": [
    "# ! pip install missingno"
   ]
  },
  {
   "cell_type": "code",
   "execution_count": 25,
   "metadata": {},
   "outputs": [],
   "source": [
    "# Анализ пропусков\n",
    "import missingno as msno"
   ]
  },
  {
   "cell_type": "code",
   "execution_count": 26,
   "metadata": {},
   "outputs": [
    {
     "data": {
      "text/plain": [
       "<matplotlib.axes._subplots.AxesSubplot at 0x2208c566250>"
      ]
     },
     "execution_count": 26,
     "metadata": {},
     "output_type": "execute_result"
    },
    {
     "data": {
      "image/png": "[encoded data removed]",
      "text/plain": [
       "<Figure size 1728x720 with 3 Axes>"
      ]
     },
     "metadata": {
      "needs_background": "light"
     },
     "output_type": "display_data"
    }
   ],
   "source": [
    "msno.bar(categorical_features, labels=True)"
   ]
  },
  {
   "cell_type": "code",
   "execution_count": 27,
   "metadata": {},
   "outputs": [],
   "source": [
    "# Выберем те признаки, пропуски в которых менее 40%\n",
    "categorical_features2 = [\n",
    "    feature for feature in categorical_features.columns\n",
    "    if (train[feature].isnull().sum() / train.shape[0]) < 0.6]"
   ]
  },
  {
   "cell_type": "code",
   "execution_count": 28,
   "metadata": {},
   "outputs": [],
   "source": [
    "train_categorical = train.copy()\n",
    "categorical_dummies = pd.get_dummies(train_categorical[categorical_features2])\n",
    "train_categorical = train_categorical.join(categorical_dummies).drop(categorical_features.columns, axis=1)"
   ]
  },
  {
   "cell_type": "code",
   "execution_count": 29,
   "metadata": {},
   "outputs": [
    {
     "name": "stdout",
     "output_type": "stream",
     "text": [
      "<class 'pandas.core.frame.DataFrame'>\n",
      "RangeIndex: 9221 entries, 0 to 9220\n",
      "Columns: 452 entries, TransactionID to M6_T\n",
      "dtypes: float64(376), int64(4), uint8(72)\n",
      "memory usage: 27.4 MB\n"
     ]
    }
   ],
   "source": [
    "train_categorical.info()"
   ]
  },
  {
   "cell_type": "code",
   "execution_count": 30,
   "metadata": {},
   "outputs": [
    {
     "name": "stdout",
     "output_type": "stream",
     "text": [
      "x_train.shape = 7376 rows, 451 cols\n",
      "x_valid.shape = 1845 rows, 451 cols\n"
     ]
    }
   ],
   "source": [
    "x_train, x_valid = train_test_split(\n",
    "    train_categorical.drop('isFraud', axis=1), train_size=0.8, random_state=1\n",
    ")\n",
    "y_train, y_valid = train_test_split(\n",
    "    train_target, train_size=0.8, random_state=1\n",
    ")\n",
    "print(\"x_train.shape = {} rows, {} cols\".format(*x_train.shape))\n",
    "print(\"x_valid.shape = {} rows, {} cols\".format(*x_valid.shape))"
   ]
  },
  {
   "cell_type": "code",
   "execution_count": 31,
   "metadata": {},
   "outputs": [
    {
     "name": "stdout",
     "output_type": "stream",
     "text": [
      "[12:54:17] WARNING: C:\\Users\\Administrator\\workspace\\xgboost-win64_release_1.2.0\\src\\learner.cc:516: \n",
      "Parameters: { n_estimators } might not be used.\n",
      "\n",
      "  This may not be accurate due to some parameters are only used in language bindings but\n",
      "  passed down to XGBoost core.  Or some parameters are not used but slip through this\n",
      "  verification. Please open an issue if you find above cases.\n",
      "\n",
      "\n",
      "[0]\ttrain-auc:0.61220\tvalid-auc:0.64676\n",
      "Multiple eval metrics have been passed: 'valid-auc' will be used for early stopping.\n",
      "\n",
      "Will train until valid-auc hasn't improved in 50 rounds.\n",
      "[9]\ttrain-auc:0.64756\tvalid-auc:0.67064\n",
      "[12:54:17] WARNING: C:\\Users\\Administrator\\workspace\\xgboost-win64_release_1.2.0\\src\\learner.cc:516: \n",
      "Parameters: { n_estimators } might not be used.\n",
      "\n",
      "  This may not be accurate due to some parameters are only used in language bindings but\n",
      "  passed down to XGBoost core.  Or some parameters are not used but slip through this\n",
      "  verification. Please open an issue if you find above cases.\n",
      "\n",
      "\n",
      "[12:54:17] WARNING: C:\\Users\\Administrator\\workspace\\xgboost-win64_release_1.2.0\\src\\learner.cc:516: \n",
      "Parameters: { n_estimators } might not be used.\n",
      "\n",
      "  This may not be accurate due to some parameters are only used in language bindings but\n",
      "  passed down to XGBoost core.  Or some parameters are not used but slip through this\n",
      "  verification. Please open an issue if you find above cases.\n",
      "\n",
      "\n",
      "[12:54:17] WARNING: C:\\Users\\Administrator\\workspace\\xgboost-win64_release_1.2.0\\src\\learner.cc:516: \n",
      "Parameters: { n_estimators } might not be used.\n",
      "\n",
      "  This may not be accurate due to some parameters are only used in language bindings but\n",
      "  passed down to XGBoost core.  Or some parameters are not used but slip through this\n",
      "  verification. Please open an issue if you find above cases.\n",
      "\n",
      "\n",
      "[0]\ttrain-auc:0.61483+0.00863\ttest-auc:0.61192+0.01270\n",
      "[25]\ttrain-auc:0.74298+0.04155\ttest-auc:0.69761+0.05154\n",
      "[50]\ttrain-auc:0.81751+0.02816\ttest-auc:0.77928+0.04317\n",
      "[75]\ttrain-auc:0.82370+0.03680\ttest-auc:0.78371+0.04309\n"
     ]
    },
    {
     "data": {
      "image/png": "[encoded data removed]",
      "text/plain": [
       "<Figure size 1080x360 with 1 Axes>"
      ]
     },
     "metadata": {
      "needs_background": "light"
     },
     "output_type": "display_data"
    }
   ],
   "source": [
    "# XGBoost API\n",
    "params = {\n",
    "    \"booster\": \"gbtree\",\n",
    "    \"objective\": \"binary:logistic\",\n",
    "    \"eval_metric\": \"auc\",\n",
    "    \"learning_rate\": 0.1,\n",
    "    \"n_estimators\": 1000,\n",
    "    \"reg_lambda\": 100,\n",
    "    \"max_depth\": 4,\n",
    "    \"gamma\": 10,\n",
    "    \"nthread\": 6,\n",
    "    \"seed\": 27\n",
    "}\n",
    "\n",
    "dtrain = xgb.DMatrix(\n",
    "    data=x_train, label=y_train\n",
    ")\n",
    "dvalid = xgb.DMatrix(\n",
    "    data=x_valid, label=y_valid\n",
    ")\n",
    "\n",
    "model = xgb.train(\n",
    "    params=params,\n",
    "    dtrain=dtrain,\n",
    "    num_boost_round=10,\n",
    "    early_stopping_rounds=50,\n",
    "    evals=[(dtrain, \"train\"), (dvalid, \"valid\")],\n",
    "    verbose_eval=10,\n",
    "    maximize=True,\n",
    ")\n",
    "\n",
    "# XGBoost Cross-Validation\n",
    "cv_result = xgb.cv(\n",
    "    params=params,\n",
    "    dtrain=dtrain,\n",
    "    num_boost_round=100,\n",
    "    early_stopping_rounds=25,\n",
    "    verbose_eval=25,\n",
    "    stratified=True,\n",
    "    metrics=\"auc\",\n",
    "    maximize=True,\n",
    "    shuffle=True,\n",
    "    nfold=3,\n",
    ")\n",
    "\n",
    "_ = plot_evalute(cv_result)"
   ]
  },
  {
   "cell_type": "markdown",
   "metadata": {},
   "source": [
    "Выводы: Катеогиальные признаки чуть улучшили метрику. Скорее всего неочень улучшения связаны с неоптимальным ОнеХотЭнкодинг. "
   ]
  },
  {
   "cell_type": "markdown",
   "metadata": {},
   "source": [
    "### Задание 4: для числовых признаков обучить модель LightGBM. Обучать алгоритм до тех пор, пока метрика качества не перестанет улучшаться на валидационной выборке в течение определенного числа итераций (выбрать значение самостоятельно)."
   ]
  },
  {
   "cell_type": "code",
   "execution_count": 32,
   "metadata": {},
   "outputs": [],
   "source": [
    "import lightgbm as lgb"
   ]
  },
  {
   "cell_type": "code",
   "execution_count": 33,
   "metadata": {},
   "outputs": [
    {
     "name": "stdout",
     "output_type": "stream",
     "text": [
      "x_train.shape = 7376 rows, 379 cols\n",
      "x_valid.shape = 1845 rows, 379 cols\n"
     ]
    }
   ],
   "source": [
    "x_train, x_valid = train_test_split(\n",
    "    train_data_numerical, train_size=0.8, random_state=1\n",
    ")\n",
    "y_train, y_valid = train_test_split(\n",
    "    train_target, train_size=0.8, random_state=1\n",
    ")\n",
    "print(\"x_train.shape = {} rows, {} cols\".format(*x_train.shape))\n",
    "print(\"x_valid.shape = {} rows, {} cols\".format(*x_valid.shape))"
   ]
  },
  {
   "cell_type": "code",
   "execution_count": 34,
   "metadata": {},
   "outputs": [],
   "source": [
    "# LightGBM API\n",
    "params = {\n",
    "    \"boosting_type\": \"gbdt\",\n",
    "    \"objective\": \"binary\",\n",
    "    \"metric\": \"auc\",\n",
    "    \"learning_rate\": 0.01,\n",
    "    \"n_estimators\": 200,\n",
    "    \"n_jobs\": 6,\n",
    "    \"seed\": 27\n",
    "}"
   ]
  },
  {
   "cell_type": "code",
   "execution_count": 35,
   "metadata": {},
   "outputs": [
    {
     "name": "stderr",
     "output_type": "stream",
     "text": [
      "D:\\Users\\biseruser\\anaconda3\\lib\\site-packages\\lightgbm\\engine.py:151: UserWarning: Found `n_estimators` in params. Will use it instead of argument\n",
      "  warnings.warn(\"Found `{}` in params. Will use it instead of argument\".format(alias))\n"
     ]
    },
    {
     "name": "stdout",
     "output_type": "stream",
     "text": [
      "[LightGBM] [Info] Number of positive: 185, number of negative: 7191\n",
      "[LightGBM] [Warning] Auto-choosing row-wise multi-threading, the overhead of testing was 0.006015 seconds.\n",
      "You can set `force_row_wise=true` to remove the overhead.\n",
      "And if memory is not enough, you can set `force_col_wise=true`.\n",
      "[LightGBM] [Info] Total Bins 13229\n",
      "[LightGBM] [Info] Number of data points in the train set: 7376, number of used features: 367\n",
      "[LightGBM] [Info] [binary:BoostFromScore]: pavg=0.025081 -> initscore=-3.660230\n",
      "[LightGBM] [Info] Start training from score -3.660230\n",
      "Training until validation scores don't improve for 50 rounds\n",
      "[10]\ttraining's auc: 0.908572\tvalid_1's auc: 0.837131\n",
      "[20]\ttraining's auc: 0.908116\tvalid_1's auc: 0.848292\n",
      "[30]\ttraining's auc: 0.911427\tvalid_1's auc: 0.838936\n",
      "[40]\ttraining's auc: 0.944023\tvalid_1's auc: 0.837523\n",
      "[50]\ttraining's auc: 0.946814\tvalid_1's auc: 0.843705\n",
      "[60]\ttraining's auc: 0.950399\tvalid_1's auc: 0.867832\n",
      "[70]\ttraining's auc: 0.959713\tvalid_1's auc: 0.866042\n",
      "[80]\ttraining's auc: 0.963342\tvalid_1's auc: 0.860424\n",
      "[90]\ttraining's auc: 0.971705\tvalid_1's auc: 0.859443\n",
      "[100]\ttraining's auc: 0.974029\tvalid_1's auc: 0.859983\n",
      "[110]\ttraining's auc: 0.981071\tvalid_1's auc: 0.86195\n",
      "Early stopping, best iteration is:\n",
      "[65]\ttraining's auc: 0.952909\tvalid_1's auc: 0.870918\n"
     ]
    }
   ],
   "source": [
    "dtrain = lgb.Dataset(\n",
    "    data=x_train, label=y_train\n",
    ")\n",
    "dvalid = lgb.Dataset(\n",
    "    data=x_valid, label=y_valid\n",
    ")\n",
    "\n",
    "model = lgb.train(\n",
    "    params=params,\n",
    "    train_set=dtrain,\n",
    "    num_boost_round=200,\n",
    "    valid_sets=[dtrain, dvalid],\n",
    "    categorical_feature=\"auto\",\n",
    "    early_stopping_rounds=50,\n",
    "    verbose_eval=10\n",
    ")"
   ]
  },
  {
   "cell_type": "code",
   "execution_count": 36,
   "metadata": {},
   "outputs": [
    {
     "name": "stderr",
     "output_type": "stream",
     "text": [
      "D:\\Users\\biseruser\\anaconda3\\lib\\site-packages\\lightgbm\\engine.py:530: UserWarning: Found `n_estimators` in params. Will use it instead of argument\n",
      "  warnings.warn(\"Found `{}` in params. Will use it instead of argument\".format(alias))\n"
     ]
    },
    {
     "name": "stdout",
     "output_type": "stream",
     "text": [
      "[LightGBM] [Info] Number of positive: 148, number of negative: 5752\n",
      "[LightGBM] [Warning] Auto-choosing row-wise multi-threading, the overhead of testing was 0.003448 seconds.\n",
      "You can set `force_row_wise=true` to remove the overhead.\n",
      "And if memory is not enough, you can set `force_col_wise=true`.\n",
      "[LightGBM] [Info] Total Bins 13229\n",
      "[LightGBM] [Info] Number of data points in the train set: 5900, number of used features: 367\n",
      "[LightGBM] [Info] Number of positive: 148, number of negative: 5753\n",
      "[LightGBM] [Warning] Auto-choosing row-wise multi-threading, the overhead of testing was 0.003727 seconds.\n",
      "You can set `force_row_wise=true` to remove the overhead.\n",
      "And if memory is not enough, you can set `force_col_wise=true`.\n",
      "[LightGBM] [Info] Total Bins 13229\n",
      "[LightGBM] [Info] Number of data points in the train set: 5901, number of used features: 367\n",
      "[LightGBM] [Info] Number of positive: 148, number of negative: 5753\n",
      "[LightGBM] [Warning] Auto-choosing row-wise multi-threading, the overhead of testing was 0.012400 seconds.\n",
      "You can set `force_row_wise=true` to remove the overhead.\n",
      "And if memory is not enough, you can set `force_col_wise=true`.\n",
      "[LightGBM] [Info] Total Bins 13229\n",
      "[LightGBM] [Info] Number of data points in the train set: 5901, number of used features: 367\n",
      "[LightGBM] [Info] Number of positive: 148, number of negative: 5753\n",
      "[LightGBM] [Warning] Auto-choosing row-wise multi-threading, the overhead of testing was 0.005695 seconds.\n",
      "You can set `force_row_wise=true` to remove the overhead.\n",
      "And if memory is not enough, you can set `force_col_wise=true`.\n",
      "[LightGBM] [Info] Total Bins 13229\n",
      "[LightGBM] [Info] Number of data points in the train set: 5901, number of used features: 367\n",
      "[LightGBM] [Info] Number of positive: 148, number of negative: 5753\n",
      "[LightGBM] [Warning] Auto-choosing row-wise multi-threading, the overhead of testing was 0.003849 seconds.\n",
      "You can set `force_row_wise=true` to remove the overhead.\n",
      "And if memory is not enough, you can set `force_col_wise=true`.\n",
      "[LightGBM] [Info] Total Bins 13229\n",
      "[LightGBM] [Info] Number of data points in the train set: 5901, number of used features: 367\n",
      "[LightGBM] [Info] [binary:BoostFromScore]: pavg=0.025085 -> initscore=-3.660091\n",
      "[LightGBM] [Info] Start training from score -3.660091\n",
      "[LightGBM] [Info] [binary:BoostFromScore]: pavg=0.025080 -> initscore=-3.660264\n",
      "[LightGBM] [Info] Start training from score -3.660264\n",
      "[LightGBM] [Info] [binary:BoostFromScore]: pavg=0.025080 -> initscore=-3.660264\n",
      "[LightGBM] [Info] Start training from score -3.660264\n",
      "[LightGBM] [Info] [binary:BoostFromScore]: pavg=0.025080 -> initscore=-3.660264\n",
      "[LightGBM] [Info] Start training from score -3.660264\n",
      "[LightGBM] [Info] [binary:BoostFromScore]: pavg=0.025080 -> initscore=-3.660264\n",
      "[LightGBM] [Info] Start training from score -3.660264\n",
      "[10]\tcv_agg's auc: 0.793226 + 0.0364974\n",
      "[20]\tcv_agg's auc: 0.815642 + 0.0365773\n",
      "[30]\tcv_agg's auc: 0.824778 + 0.0324488\n",
      "[40]\tcv_agg's auc: 0.832856 + 0.0394966\n",
      "[50]\tcv_agg's auc: 0.827489 + 0.043578\n",
      "[60]\tcv_agg's auc: 0.824429 + 0.0454602\n",
      "[70]\tcv_agg's auc: 0.827993 + 0.0467409\n",
      "[80]\tcv_agg's auc: 0.840561 + 0.0378367\n",
      "[90]\tcv_agg's auc: 0.845115 + 0.0358183\n",
      "[100]\tcv_agg's auc: 0.846415 + 0.0373014\n",
      "[110]\tcv_agg's auc: 0.853764 + 0.0401941\n",
      "[120]\tcv_agg's auc: 0.857556 + 0.0396567\n",
      "[130]\tcv_agg's auc: 0.86305 + 0.0364541\n",
      "[140]\tcv_agg's auc: 0.863425 + 0.0350732\n",
      "[150]\tcv_agg's auc: 0.863471 + 0.0360952\n",
      "[160]\tcv_agg's auc: 0.864185 + 0.036958\n",
      "[170]\tcv_agg's auc: 0.863282 + 0.0352902\n",
      "[180]\tcv_agg's auc: 0.863928 + 0.032895\n",
      "[190]\tcv_agg's auc: 0.867034 + 0.0320005\n",
      "[200]\tcv_agg's auc: 0.868535 + 0.0298674\n"
     ]
    }
   ],
   "source": [
    "# LightGBM Cross-Validation\n",
    "cv_result = lgb.cv(\n",
    "    params=params,\n",
    "    train_set=dtrain,\n",
    "    num_boost_round=200,\n",
    "    categorical_feature=\"auto\",\n",
    "    early_stopping_rounds=50,\n",
    "    verbose_eval=10,\n",
    "    stratified=True,\n",
    "    shuffle=True,\n",
    "    nfold=5, \n",
    ")"
   ]
  },
  {
   "cell_type": "markdown",
   "metadata": {},
   "source": [
    "### Задание 5: обработать категориальные признаки любым способом (который вы знаете) и добавить их к данным. Выполнить задание 4."
   ]
  },
  {
   "cell_type": "code",
   "execution_count": 37,
   "metadata": {},
   "outputs": [
    {
     "name": "stdout",
     "output_type": "stream",
     "text": [
      "x_train.shape = 7376 rows, 451 cols\n",
      "x_valid.shape = 1845 rows, 451 cols\n"
     ]
    }
   ],
   "source": [
    "x_train, x_valid = train_test_split(\n",
    "    train_categorical.drop('isFraud', axis=1), train_size=0.8, random_state=1\n",
    ")\n",
    "y_train, y_valid = train_test_split(\n",
    "    train_target, train_size=0.8, random_state=1\n",
    ")\n",
    "print(\"x_train.shape = {} rows, {} cols\".format(*x_train.shape))\n",
    "print(\"x_valid.shape = {} rows, {} cols\".format(*x_valid.shape))"
   ]
  },
  {
   "cell_type": "code",
   "execution_count": 38,
   "metadata": {
    "scrolled": true
   },
   "outputs": [
    {
     "name": "stdout",
     "output_type": "stream",
     "text": [
      "[LightGBM] [Warning] "
     ]
    },
    {
     "name": "stderr",
     "output_type": "stream",
     "text": [
      "D:\\Users\\biseruser\\anaconda3\\lib\\site-packages\\lightgbm\\engine.py:151: UserWarning: Found `n_estimators` in params. Will use it instead of argument\n",
      "  warnings.warn(\"Found `{}` in params. Will use it instead of argument\".format(alias))\n"
     ]
    },
    {
     "name": "stdout",
     "output_type": "stream",
     "text": [
      "Find whitespaces in feature_names, replace with underlines\n",
      "[LightGBM] [Info] Number of positive: 185, number of negative: 7191\n",
      "[LightGBM] [Warning] Auto-choosing row-wise multi-threading, the overhead of testing was 0.006152 seconds.\n",
      "You can set `force_row_wise=true` to remove the overhead.\n",
      "And if memory is not enough, you can set `force_col_wise=true`.\n",
      "[LightGBM] [Info] Total Bins 13309\n",
      "[LightGBM] [Info] Number of data points in the train set: 7376, number of used features: 407\n",
      "[LightGBM] [Warning] Find whitespaces in feature_names, replace with underlines\n",
      "[LightGBM] [Info] [binary:BoostFromScore]: pavg=0.025081 -> initscore=-3.660230\n",
      "[LightGBM] [Info] Start training from score -3.660230\n",
      "Training until validation scores don't improve for 50 rounds\n",
      "[10]\ttraining's auc: 0.907261\tvalid_1's auc: 0.837145\n",
      "[20]\ttraining's auc: 0.913104\tvalid_1's auc: 0.867881\n",
      "[30]\ttraining's auc: 0.918557\tvalid_1's auc: 0.869015\n",
      "[40]\ttraining's auc: 0.922404\tvalid_1's auc: 0.87085\n",
      "[50]\ttraining's auc: 0.938911\tvalid_1's auc: 0.879759\n",
      "[60]\ttraining's auc: 0.947924\tvalid_1's auc: 0.873621\n",
      "[70]\ttraining's auc: 0.953571\tvalid_1's auc: 0.875775\n",
      "[80]\ttraining's auc: 0.965622\tvalid_1's auc: 0.877801\n",
      "[90]\ttraining's auc: 0.974558\tvalid_1's auc: 0.885087\n",
      "[100]\ttraining's auc: 0.97803\tvalid_1's auc: 0.883267\n",
      "[110]\ttraining's auc: 0.983191\tvalid_1's auc: 0.881049\n",
      "[120]\ttraining's auc: 0.987108\tvalid_1's auc: 0.877693\n",
      "[130]\ttraining's auc: 0.989677\tvalid_1's auc: 0.88232\n",
      "Early stopping, best iteration is:\n",
      "[89]\ttraining's auc: 0.973779\tvalid_1's auc: 0.885783\n"
     ]
    }
   ],
   "source": [
    "# LightGBM API\n",
    "params = {\n",
    "    \"boosting_type\": \"gbdt\",\n",
    "    \"objective\": \"binary\",\n",
    "    \"metric\": \"auc\",\n",
    "    \"learning_rate\": 0.01,\n",
    "    \"n_estimators\": 200,\n",
    "    \"n_jobs\": 6,\n",
    "    \"seed\": 27\n",
    "}\n",
    "\n",
    "dtrain = lgb.Dataset(\n",
    "    data=x_train, label=y_train\n",
    ")\n",
    "dvalid = lgb.Dataset(\n",
    "    data=x_valid, label=y_valid\n",
    ")\n",
    "\n",
    "model = lgb.train(\n",
    "    params=params,\n",
    "    train_set=dtrain,\n",
    "    num_boost_round=200,\n",
    "    valid_sets=[dtrain, dvalid],\n",
    "    categorical_feature=\"auto\",\n",
    "    early_stopping_rounds=50,\n",
    "    verbose_eval=10\n",
    ")"
   ]
  },
  {
   "cell_type": "code",
   "execution_count": 39,
   "metadata": {
    "scrolled": true
   },
   "outputs": [
    {
     "name": "stdout",
     "output_type": "stream",
     "text": [
      "[LightGBM] [Info] Number of positive: 148, number of negative: 5752\n",
      "[LightGBM] [Warning] Auto-choosing col-wise multi-threading, the overhead of testing was 0.007415 seconds.\n",
      "You can set `force_col_wise=true` to remove the overhead.\n",
      "[LightGBM] [Info] Total Bins 13309\n",
      "[LightGBM] [Info] Number of data points in the train set: 5900, number of used features: 407\n",
      "[LightGBM] [Info] Number of positive: 148, number of negative: 5753\n",
      "[LightGBM] [Warning] Auto-choosing row-wise multi-threading, the overhead of testing was 0.003225 seconds.\n",
      "You can set `force_row_wise=true` to remove the overhead.\n",
      "And if memory is not enough, you can set `force_col_wise=true`.\n",
      "[LightGBM] [Info] Total Bins 13309\n",
      "[LightGBM] [Info] Number of data points in the train set: 5901, number of used features: 407\n",
      "[LightGBM] [Info] Number of positive: 148, number of negative: 5753\n",
      "[LightGBM] [Warning] Auto-choosing row-wise multi-threading, the overhead of testing was 0.004928 seconds.\n",
      "You can set `force_row_wise=true` to remove the overhead.\n",
      "And if memory is not enough, you can set `force_col_wise=true`.\n",
      "[LightGBM] [Info] Total Bins 13309\n",
      "[LightGBM] [Info] Number of data points in the train set: 5901, number of used features: 407\n",
      "[LightGBM] [Info] Number of positive: 148, number of negative: 5753\n",
      "[LightGBM] [Warning] "
     ]
    },
    {
     "name": "stderr",
     "output_type": "stream",
     "text": [
      "D:\\Users\\biseruser\\anaconda3\\lib\\site-packages\\lightgbm\\engine.py:530: UserWarning: Found `n_estimators` in params. Will use it instead of argument\n",
      "  warnings.warn(\"Found `{}` in params. Will use it instead of argument\".format(alias))\n"
     ]
    },
    {
     "name": "stdout",
     "output_type": "stream",
     "text": [
      "Auto-choosing row-wise multi-threading, the overhead of testing was 0.004835 seconds.\n",
      "You can set `force_row_wise=true` to remove the overhead.\n",
      "And if memory is not enough, you can set `force_col_wise=true`.\n",
      "[LightGBM] [Info] Total Bins 13309\n",
      "[LightGBM] [Info] Number of data points in the train set: 5901, number of used features: 407\n",
      "[LightGBM] [Info] Number of positive: 148, number of negative: 5753\n",
      "[LightGBM] [Warning] Auto-choosing row-wise multi-threading, the overhead of testing was 0.005015 seconds.\n",
      "You can set `force_row_wise=true` to remove the overhead.\n",
      "And if memory is not enough, you can set `force_col_wise=true`.\n",
      "[LightGBM] [Info] Total Bins 13309\n",
      "[LightGBM] [Info] Number of data points in the train set: 5901, number of used features: 407\n",
      "[LightGBM] [Info] [binary:BoostFromScore]: pavg=0.025085 -> initscore=-3.660091\n",
      "[LightGBM] [Info] Start training from score -3.660091\n",
      "[LightGBM] [Info] [binary:BoostFromScore]: pavg=0.025080 -> initscore=-3.660264\n",
      "[LightGBM] [Info] Start training from score -3.660264\n",
      "[LightGBM] [Info] [binary:BoostFromScore]: pavg=0.025080 -> initscore=-3.660264\n",
      "[LightGBM] [Info] Start training from score -3.660264\n",
      "[LightGBM] [Info] [binary:BoostFromScore]: pavg=0.025080 -> initscore=-3.660264\n",
      "[LightGBM] [Info] Start training from score -3.660264\n",
      "[LightGBM] [Info] [binary:BoostFromScore]: pavg=0.025080 -> initscore=-3.660264\n",
      "[LightGBM] [Info] Start training from score -3.660264\n",
      "[10]\tcv_agg's auc: 0.814279 + 0.0188258\n",
      "[20]\tcv_agg's auc: 0.824793 + 0.0273037\n",
      "[30]\tcv_agg's auc: 0.836339 + 0.0309387\n",
      "[40]\tcv_agg's auc: 0.852521 + 0.0313339\n",
      "[50]\tcv_agg's auc: 0.854121 + 0.0339298\n",
      "[60]\tcv_agg's auc: 0.8612 + 0.0322893\n",
      "[70]\tcv_agg's auc: 0.862944 + 0.037303\n",
      "[80]\tcv_agg's auc: 0.86736 + 0.0365938\n",
      "[90]\tcv_agg's auc: 0.867926 + 0.0359823\n",
      "[100]\tcv_agg's auc: 0.870885 + 0.0376768\n",
      "[110]\tcv_agg's auc: 0.871639 + 0.039496\n",
      "[120]\tcv_agg's auc: 0.871762 + 0.0384873\n",
      "[130]\tcv_agg's auc: 0.87167 + 0.0376691\n",
      "[140]\tcv_agg's auc: 0.873505 + 0.0365785\n",
      "[150]\tcv_agg's auc: 0.874125 + 0.0363068\n",
      "[160]\tcv_agg's auc: 0.875406 + 0.0340366\n",
      "[170]\tcv_agg's auc: 0.876333 + 0.0355369\n",
      "[180]\tcv_agg's auc: 0.877513 + 0.0332107\n",
      "[190]\tcv_agg's auc: 0.878985 + 0.0306791\n",
      "[200]\tcv_agg's auc: 0.879868 + 0.0290319\n"
     ]
    }
   ],
   "source": [
    "# LightGBM Cross-Validation\n",
    "cv_result = lgb.cv(\n",
    "    params=params,\n",
    "    train_set=dtrain,\n",
    "    num_boost_round=200,\n",
    "    categorical_feature=\"auto\",\n",
    "    early_stopping_rounds=50,\n",
    "    verbose_eval=10,\n",
    "    stratified=True,\n",
    "    shuffle=True,\n",
    "    nfold=5, \n",
    ")"
   ]
  },
  {
   "cell_type": "markdown",
   "metadata": {},
   "source": [
    "### Задание 6: обработать категориальные признаки встроенным методом в LightGBM. Выполнить задание 4. Сделать выводы о качестве работы алгоритма, по сравнению с пунктом 5."
   ]
  },
  {
   "cell_type": "code",
   "execution_count": 50,
   "metadata": {},
   "outputs": [],
   "source": [
    "from sklearn.preprocessing import OrdinalEncoder"
   ]
  },
  {
   "cell_type": "code",
   "execution_count": 51,
   "metadata": {},
   "outputs": [],
   "source": [
    "le = OrdinalEncoder()"
   ]
  },
  {
   "cell_type": "code",
   "execution_count": 52,
   "metadata": {},
   "outputs": [],
   "source": [
    "train_LGBM = train.copy()"
   ]
  },
  {
   "cell_type": "code",
   "execution_count": 75,
   "metadata": {},
   "outputs": [
    {
     "ename": "ValueError",
     "evalue": "Input contains NaN",
     "output_type": "error",
     "traceback": [
      "\u001b[1;31m---------------------------------------------------------------------------\u001b[0m",
      "\u001b[1;31mValueError\u001b[0m                                Traceback (most recent call last)",
      "\u001b[1;32m<ipython-input-75-22beefc01b64>\u001b[0m in \u001b[0;36m<module>\u001b[1;34m\u001b[0m\n\u001b[1;32m----> 1\u001b[1;33m \u001b[0mtrain_LGBM\u001b[0m\u001b[1;33m[\u001b[0m\u001b[0mcategorical_features\u001b[0m\u001b[1;33m.\u001b[0m\u001b[0mcolumns\u001b[0m\u001b[1;33m]\u001b[0m \u001b[1;33m=\u001b[0m \u001b[0mle\u001b[0m\u001b[1;33m.\u001b[0m\u001b[0mfit\u001b[0m\u001b[1;33m(\u001b[0m\u001b[0mtrain_LGBM\u001b[0m\u001b[1;33m[\u001b[0m\u001b[0mcategorical_features\u001b[0m\u001b[1;33m.\u001b[0m\u001b[0mcolumns\u001b[0m\u001b[1;33m]\u001b[0m\u001b[1;33m)\u001b[0m\u001b[1;33m\u001b[0m\u001b[1;33m\u001b[0m\u001b[0m\n\u001b[0m",
      "\u001b[1;32mD:\\Users\\biseruser\\anaconda3\\lib\\site-packages\\sklearn\\preprocessing\\_encoders.py\u001b[0m in \u001b[0;36mfit\u001b[1;34m(self, X, y)\u001b[0m\n\u001b[0;32m    680\u001b[0m         \u001b[0mself\u001b[0m\u001b[1;33m\u001b[0m\u001b[1;33m\u001b[0m\u001b[0m\n\u001b[0;32m    681\u001b[0m         \"\"\"\n\u001b[1;32m--> 682\u001b[1;33m         \u001b[0mself\u001b[0m\u001b[1;33m.\u001b[0m\u001b[0m_fit\u001b[0m\u001b[1;33m(\u001b[0m\u001b[0mX\u001b[0m\u001b[1;33m)\u001b[0m\u001b[1;33m\u001b[0m\u001b[1;33m\u001b[0m\u001b[0m\n\u001b[0m\u001b[0;32m    683\u001b[0m \u001b[1;33m\u001b[0m\u001b[0m\n\u001b[0;32m    684\u001b[0m         \u001b[1;32mreturn\u001b[0m \u001b[0mself\u001b[0m\u001b[1;33m\u001b[0m\u001b[1;33m\u001b[0m\u001b[0m\n",
      "\u001b[1;32mD:\\Users\\biseruser\\anaconda3\\lib\\site-packages\\sklearn\\preprocessing\\_encoders.py\u001b[0m in \u001b[0;36m_fit\u001b[1;34m(self, X, handle_unknown)\u001b[0m\n\u001b[0;32m     72\u001b[0m \u001b[1;33m\u001b[0m\u001b[0m\n\u001b[0;32m     73\u001b[0m     \u001b[1;32mdef\u001b[0m \u001b[0m_fit\u001b[0m\u001b[1;33m(\u001b[0m\u001b[0mself\u001b[0m\u001b[1;33m,\u001b[0m \u001b[0mX\u001b[0m\u001b[1;33m,\u001b[0m \u001b[0mhandle_unknown\u001b[0m\u001b[1;33m=\u001b[0m\u001b[1;34m'error'\u001b[0m\u001b[1;33m)\u001b[0m\u001b[1;33m:\u001b[0m\u001b[1;33m\u001b[0m\u001b[1;33m\u001b[0m\u001b[0m\n\u001b[1;32m---> 74\u001b[1;33m         \u001b[0mX_list\u001b[0m\u001b[1;33m,\u001b[0m \u001b[0mn_samples\u001b[0m\u001b[1;33m,\u001b[0m \u001b[0mn_features\u001b[0m \u001b[1;33m=\u001b[0m \u001b[0mself\u001b[0m\u001b[1;33m.\u001b[0m\u001b[0m_check_X\u001b[0m\u001b[1;33m(\u001b[0m\u001b[0mX\u001b[0m\u001b[1;33m)\u001b[0m\u001b[1;33m\u001b[0m\u001b[1;33m\u001b[0m\u001b[0m\n\u001b[0m\u001b[0;32m     75\u001b[0m \u001b[1;33m\u001b[0m\u001b[0m\n\u001b[0;32m     76\u001b[0m         \u001b[1;32mif\u001b[0m \u001b[0mself\u001b[0m\u001b[1;33m.\u001b[0m\u001b[0mcategories\u001b[0m \u001b[1;33m!=\u001b[0m \u001b[1;34m'auto'\u001b[0m\u001b[1;33m:\u001b[0m\u001b[1;33m\u001b[0m\u001b[1;33m\u001b[0m\u001b[0m\n",
      "\u001b[1;32mD:\\Users\\biseruser\\anaconda3\\lib\\site-packages\\sklearn\\preprocessing\\_encoders.py\u001b[0m in \u001b[0;36m_check_X\u001b[1;34m(self, X)\u001b[0m\n\u001b[0;32m     58\u001b[0m         \u001b[1;32mfor\u001b[0m \u001b[0mi\u001b[0m \u001b[1;32min\u001b[0m \u001b[0mrange\u001b[0m\u001b[1;33m(\u001b[0m\u001b[0mn_features\u001b[0m\u001b[1;33m)\u001b[0m\u001b[1;33m:\u001b[0m\u001b[1;33m\u001b[0m\u001b[1;33m\u001b[0m\u001b[0m\n\u001b[0;32m     59\u001b[0m             \u001b[0mXi\u001b[0m \u001b[1;33m=\u001b[0m \u001b[0mself\u001b[0m\u001b[1;33m.\u001b[0m\u001b[0m_get_feature\u001b[0m\u001b[1;33m(\u001b[0m\u001b[0mX\u001b[0m\u001b[1;33m,\u001b[0m \u001b[0mfeature_idx\u001b[0m\u001b[1;33m=\u001b[0m\u001b[0mi\u001b[0m\u001b[1;33m)\u001b[0m\u001b[1;33m\u001b[0m\u001b[1;33m\u001b[0m\u001b[0m\n\u001b[1;32m---> 60\u001b[1;33m             Xi = check_array(Xi, ensure_2d=False, dtype=None,\n\u001b[0m\u001b[0;32m     61\u001b[0m                              force_all_finite=needs_validation)\n\u001b[0;32m     62\u001b[0m             \u001b[0mX_columns\u001b[0m\u001b[1;33m.\u001b[0m\u001b[0mappend\u001b[0m\u001b[1;33m(\u001b[0m\u001b[0mXi\u001b[0m\u001b[1;33m)\u001b[0m\u001b[1;33m\u001b[0m\u001b[1;33m\u001b[0m\u001b[0m\n",
      "\u001b[1;32mD:\\Users\\biseruser\\anaconda3\\lib\\site-packages\\sklearn\\utils\\validation.py\u001b[0m in \u001b[0;36minner_f\u001b[1;34m(*args, **kwargs)\u001b[0m\n\u001b[0;32m     71\u001b[0m                           FutureWarning)\n\u001b[0;32m     72\u001b[0m         \u001b[0mkwargs\u001b[0m\u001b[1;33m.\u001b[0m\u001b[0mupdate\u001b[0m\u001b[1;33m(\u001b[0m\u001b[1;33m{\u001b[0m\u001b[0mk\u001b[0m\u001b[1;33m:\u001b[0m \u001b[0marg\u001b[0m \u001b[1;32mfor\u001b[0m \u001b[0mk\u001b[0m\u001b[1;33m,\u001b[0m \u001b[0marg\u001b[0m \u001b[1;32min\u001b[0m \u001b[0mzip\u001b[0m\u001b[1;33m(\u001b[0m\u001b[0msig\u001b[0m\u001b[1;33m.\u001b[0m\u001b[0mparameters\u001b[0m\u001b[1;33m,\u001b[0m \u001b[0margs\u001b[0m\u001b[1;33m)\u001b[0m\u001b[1;33m}\u001b[0m\u001b[1;33m)\u001b[0m\u001b[1;33m\u001b[0m\u001b[1;33m\u001b[0m\u001b[0m\n\u001b[1;32m---> 73\u001b[1;33m         \u001b[1;32mreturn\u001b[0m \u001b[0mf\u001b[0m\u001b[1;33m(\u001b[0m\u001b[1;33m**\u001b[0m\u001b[0mkwargs\u001b[0m\u001b[1;33m)\u001b[0m\u001b[1;33m\u001b[0m\u001b[1;33m\u001b[0m\u001b[0m\n\u001b[0m\u001b[0;32m     74\u001b[0m     \u001b[1;32mreturn\u001b[0m \u001b[0minner_f\u001b[0m\u001b[1;33m\u001b[0m\u001b[1;33m\u001b[0m\u001b[0m\n\u001b[0;32m     75\u001b[0m \u001b[1;33m\u001b[0m\u001b[0m\n",
      "\u001b[1;32mD:\\Users\\biseruser\\anaconda3\\lib\\site-packages\\sklearn\\utils\\validation.py\u001b[0m in \u001b[0;36mcheck_array\u001b[1;34m(array, accept_sparse, accept_large_sparse, dtype, order, copy, force_all_finite, ensure_2d, allow_nd, ensure_min_samples, ensure_min_features, estimator)\u001b[0m\n\u001b[0;32m    643\u001b[0m \u001b[1;33m\u001b[0m\u001b[0m\n\u001b[0;32m    644\u001b[0m         \u001b[1;32mif\u001b[0m \u001b[0mforce_all_finite\u001b[0m\u001b[1;33m:\u001b[0m\u001b[1;33m\u001b[0m\u001b[1;33m\u001b[0m\u001b[0m\n\u001b[1;32m--> 645\u001b[1;33m             _assert_all_finite(array,\n\u001b[0m\u001b[0;32m    646\u001b[0m                                allow_nan=force_all_finite == 'allow-nan')\n\u001b[0;32m    647\u001b[0m \u001b[1;33m\u001b[0m\u001b[0m\n",
      "\u001b[1;32mD:\\Users\\biseruser\\anaconda3\\lib\\site-packages\\sklearn\\utils\\validation.py\u001b[0m in \u001b[0;36m_assert_all_finite\u001b[1;34m(X, allow_nan, msg_dtype)\u001b[0m\n\u001b[0;32m    103\u001b[0m     \u001b[1;32melif\u001b[0m \u001b[0mX\u001b[0m\u001b[1;33m.\u001b[0m\u001b[0mdtype\u001b[0m \u001b[1;33m==\u001b[0m \u001b[0mnp\u001b[0m\u001b[1;33m.\u001b[0m\u001b[0mdtype\u001b[0m\u001b[1;33m(\u001b[0m\u001b[1;34m'object'\u001b[0m\u001b[1;33m)\u001b[0m \u001b[1;32mand\u001b[0m \u001b[1;32mnot\u001b[0m \u001b[0mallow_nan\u001b[0m\u001b[1;33m:\u001b[0m\u001b[1;33m\u001b[0m\u001b[1;33m\u001b[0m\u001b[0m\n\u001b[0;32m    104\u001b[0m         \u001b[1;32mif\u001b[0m \u001b[0m_object_dtype_isnan\u001b[0m\u001b[1;33m(\u001b[0m\u001b[0mX\u001b[0m\u001b[1;33m)\u001b[0m\u001b[1;33m.\u001b[0m\u001b[0many\u001b[0m\u001b[1;33m(\u001b[0m\u001b[1;33m)\u001b[0m\u001b[1;33m:\u001b[0m\u001b[1;33m\u001b[0m\u001b[1;33m\u001b[0m\u001b[0m\n\u001b[1;32m--> 105\u001b[1;33m             \u001b[1;32mraise\u001b[0m \u001b[0mValueError\u001b[0m\u001b[1;33m(\u001b[0m\u001b[1;34m\"Input contains NaN\"\u001b[0m\u001b[1;33m)\u001b[0m\u001b[1;33m\u001b[0m\u001b[1;33m\u001b[0m\u001b[0m\n\u001b[0m\u001b[0;32m    106\u001b[0m \u001b[1;33m\u001b[0m\u001b[0m\n\u001b[0;32m    107\u001b[0m \u001b[1;33m\u001b[0m\u001b[0m\n",
      "\u001b[1;31mValueError\u001b[0m: Input contains NaN"
     ]
    }
   ],
   "source": [
    "train_LGBM[categorical_features.columns] = le.fit(train_LGBM[categorical_features.columns])"
   ]
  },
  {
   "cell_type": "code",
   "execution_count": 62,
   "metadata": {},
   "outputs": [],
   "source": [
    "# train_LGBM.loc[train_LGBM[categorical_features.columns].notna(), [categorical_features.columns]] = \\\n",
    "#         le.fit_transform(train_LGBM[categorical_features.columns].dropna().values.reshape(-1,1))\n",
    "# train_LGBM[categorical_features.columns] = train_LGBM[categorical_features.columns].fillna(-1)"
   ]
  },
  {
   "cell_type": "markdown",
   "metadata": {},
   "source": [
    "Не смог разобарться как подать в модель категориальные признаки (В описаниинаписано, что они должны быть закодированы целыми неотрицательными числами). Не смог побороть, как сделать такое кодирование при наличии пропусков в признаках, тк кодер ругаеться на их присутствие"
   ]
  },
  {
   "cell_type": "markdown",
   "metadata": {},
   "source": [
    "Выводы: Добавление в обучение категориальных признаков (даже закодированных самым неоптимальным способом через ОнеХотЭнкодинг) добалвяет качества моедли"
   ]
  },
  {
   "cell_type": "code",
   "execution_count": null,
   "metadata": {},
   "outputs": [],
   "source": []
  },
  {
   "cell_type": "markdown",
   "metadata": {},
   "source": [
    "### Задание 7: для числовых признаков обучить модель CatBoost. Обучать алгоритм до тех пор, пока метрика качества не перестанет улучшаться на валидационной выборке в течение определенного числа итераций (выбрать значение самостоятельно)."
   ]
  },
  {
   "cell_type": "code",
   "execution_count": 65,
   "metadata": {},
   "outputs": [],
   "source": [
    "# ! pip install catboost"
   ]
  },
  {
   "cell_type": "code",
   "execution_count": 66,
   "metadata": {},
   "outputs": [],
   "source": [
    "import warnings\n",
    "import catboost as cb"
   ]
  },
  {
   "cell_type": "code",
   "execution_count": 67,
   "metadata": {},
   "outputs": [
    {
     "name": "stdout",
     "output_type": "stream",
     "text": [
      "x_train.shape = 7376 rows, 379 cols\n",
      "x_valid.shape = 1845 rows, 379 cols\n"
     ]
    }
   ],
   "source": [
    "x_train, x_valid = train_test_split(\n",
    "    train_data_numerical, train_size=0.8, random_state=1\n",
    ")\n",
    "y_train, y_valid = train_test_split(\n",
    "    train_target, train_size=0.8, random_state=1\n",
    ")\n",
    "print(\"x_train.shape = {} rows, {} cols\".format(*x_train.shape))\n",
    "print(\"x_valid.shape = {} rows, {} cols\".format(*x_valid.shape))"
   ]
  },
  {
   "cell_type": "code",
   "execution_count": 68,
   "metadata": {},
   "outputs": [],
   "source": [
    "# CatBoost Sklearn-API\n",
    "cb_params = {\n",
    "    \"n_estimators\": 200,\n",
    "    \"loss_function\": \"Logloss\",\n",
    "    \"eval_metric\": \"AUC\",\n",
    "    \"task_type\": \"CPU\",\n",
    "    \"max_bin\": 20,\n",
    "    \"verbose\": 10,\n",
    "    \"max_depth\": 6,\n",
    "    \"l2_leaf_reg\": 100,\n",
    "    \"early_stopping_rounds\": 75,\n",
    "    \"thread_count\": 6,\n",
    "    \"random_seed\": 42\n",
    "}"
   ]
  },
  {
   "cell_type": "code",
   "execution_count": 69,
   "metadata": {},
   "outputs": [
    {
     "name": "stdout",
     "output_type": "stream",
     "text": [
      "0:\ttest: 0.5898548\ttest1: 0.5611091\tbest: 0.5611091 (0)\ttotal: 166ms\tremaining: 33s\n",
      "10:\ttest: 0.7318728\ttest1: 0.7426901\tbest: 0.7426901 (10)\ttotal: 264ms\tremaining: 4.54s\n",
      "20:\ttest: 0.7736987\ttest1: 0.8005171\tbest: 0.8061296 (14)\ttotal: 342ms\tremaining: 2.92s\n",
      "30:\ttest: 0.7663352\ttest1: 0.7880411\tbest: 0.8061296 (14)\ttotal: 424ms\tremaining: 2.31s\n",
      "40:\ttest: 0.7803734\ttest1: 0.7918580\tbest: 0.8061296 (14)\ttotal: 501ms\tremaining: 1.94s\n",
      "50:\ttest: 0.7904430\ttest1: 0.8026070\tbest: 0.8061296 (14)\ttotal: 583ms\tremaining: 1.7s\n",
      "60:\ttest: 0.8029996\ttest1: 0.8206709\tbest: 0.8237421 (59)\ttotal: 666ms\tremaining: 1.52s\n",
      "70:\ttest: 0.8108856\ttest1: 0.8226088\tbest: 0.8276031 (69)\ttotal: 749ms\tremaining: 1.36s\n",
      "80:\ttest: 0.8167830\ttest1: 0.8293889\tbest: 0.8303112 (79)\ttotal: 833ms\tremaining: 1.22s\n",
      "90:\ttest: 0.8211311\ttest1: 0.8351584\tbest: 0.8357961 (89)\ttotal: 911ms\tremaining: 1.09s\n",
      "100:\ttest: 0.8221422\ttest1: 0.8378125\tbest: 0.8378125 (100)\ttotal: 981ms\tremaining: 962ms\n",
      "110:\ttest: 0.8237196\ttest1: 0.8400938\tbest: 0.8401576 (106)\ttotal: 1.06s\tremaining: 847ms\n",
      "120:\ttest: 0.8247919\ttest1: 0.8410652\tbest: 0.8410652 (120)\ttotal: 1.13s\tremaining: 738ms\n",
      "130:\ttest: 0.8258503\ttest1: 0.8397455\tbest: 0.8410652 (120)\ttotal: 1.2s\tremaining: 633ms\n",
      "140:\ttest: 0.8260393\ttest1: 0.8397160\tbest: 0.8410652 (120)\ttotal: 1.27s\tremaining: 533ms\n",
      "150:\ttest: 0.8276404\ttest1: 0.8409524\tbest: 0.8410652 (120)\ttotal: 1.35s\tremaining: 438ms\n",
      "160:\ttest: 0.8277892\ttest1: 0.8410897\tbest: 0.8410897 (160)\ttotal: 1.42s\tremaining: 345ms\n",
      "170:\ttest: 0.8277953\ttest1: 0.8412075\tbest: 0.8412075 (169)\ttotal: 1.49s\tremaining: 253ms\n",
      "180:\ttest: 0.8282955\ttest1: 0.8411878\tbest: 0.8414331 (173)\ttotal: 1.56s\tremaining: 164ms\n",
      "190:\ttest: 0.8283650\ttest1: 0.8414135\tbest: 0.8414331 (173)\ttotal: 1.63s\tremaining: 77ms\n",
      "199:\ttest: 0.8295565\ttest1: 0.8417373\tbest: 0.8419336 (193)\ttotal: 1.69s\tremaining: 0us\n",
      "\n",
      "bestTest = 0.8419335531\n",
      "bestIteration = 193\n",
      "\n",
      "Shrink model to first 194 iterations.\n"
     ]
    },
    {
     "data": {
      "text/plain": [
       "<catboost.core.CatBoostClassifier at 0x22086165a00>"
      ]
     },
     "execution_count": 69,
     "metadata": {},
     "output_type": "execute_result"
    }
   ],
   "source": [
    "model = cb.CatBoostClassifier(**cb_params)\n",
    "model.fit(x_train, y_train, eval_set=[(x_train, y_train), (x_valid, y_valid)])"
   ]
  },
  {
   "cell_type": "markdown",
   "metadata": {},
   "source": [
    "### Задание 8: обработать категориальные признаки любым способом (который вы знаете) и добавить их к данным. Выполнить задание 7."
   ]
  },
  {
   "cell_type": "code",
   "execution_count": 70,
   "metadata": {},
   "outputs": [
    {
     "name": "stdout",
     "output_type": "stream",
     "text": [
      "x_train.shape = 7376 rows, 451 cols\n",
      "x_valid.shape = 1845 rows, 451 cols\n"
     ]
    }
   ],
   "source": [
    "x_train, x_valid = train_test_split(\n",
    "    train_categorical.drop('isFraud', axis=1), train_size=0.8, random_state=1\n",
    ")\n",
    "y_train, y_valid = train_test_split(\n",
    "    train_target, train_size=0.8, random_state=1\n",
    ")\n",
    "print(\"x_train.shape = {} rows, {} cols\".format(*x_train.shape))\n",
    "print(\"x_valid.shape = {} rows, {} cols\".format(*x_valid.shape))"
   ]
  },
  {
   "cell_type": "code",
   "execution_count": 71,
   "metadata": {},
   "outputs": [
    {
     "name": "stdout",
     "output_type": "stream",
     "text": [
      "0:\ttest: 0.5053043\ttest1: 0.5079870\tbest: 0.5079870 (0)\ttotal: 20.5ms\tremaining: 4.07s\n",
      "10:\ttest: 0.7485724\ttest1: 0.7173555\tbest: 0.7173555 (10)\ttotal: 101ms\tremaining: 1.74s\n",
      "20:\ttest: 0.7687519\ttest1: 0.7486705\tbest: 0.7486705 (20)\ttotal: 189ms\tremaining: 1.61s\n",
      "30:\ttest: 0.7810769\ttest1: 0.7842733\tbest: 0.7859561 (29)\ttotal: 279ms\tremaining: 1.52s\n",
      "40:\ttest: 0.7903615\ttest1: 0.8062767\tbest: 0.8066692 (39)\ttotal: 361ms\tremaining: 1.4s\n",
      "50:\ttest: 0.8112645\ttest1: 0.8331567\tbest: 0.8353350 (49)\ttotal: 455ms\tremaining: 1.33s\n",
      "60:\ttest: 0.8259232\ttest1: 0.8448919\tbest: 0.8448919 (60)\ttotal: 538ms\tremaining: 1.22s\n",
      "70:\ttest: 0.8316071\ttest1: 0.8455444\tbest: 0.8455444 (70)\ttotal: 616ms\tremaining: 1.12s\n",
      "80:\ttest: 0.8395878\ttest1: 0.8474675\tbest: 0.8479679 (78)\ttotal: 701ms\tremaining: 1.03s\n",
      "90:\ttest: 0.8434954\ttest1: 0.8498617\tbest: 0.8499696 (89)\ttotal: 784ms\tremaining: 939ms\n",
      "100:\ttest: 0.8444786\ttest1: 0.8529034\tbest: 0.8529034 (100)\ttotal: 861ms\tremaining: 844ms\n",
      "110:\ttest: 0.8452510\ttest1: 0.8535019\tbest: 0.8542967 (105)\ttotal: 952ms\tremaining: 763ms\n",
      "120:\ttest: 0.8477639\ttest1: 0.8576720\tbest: 0.8577996 (118)\ttotal: 1.03s\tremaining: 674ms\n",
      "130:\ttest: 0.8477060\ttest1: 0.8580056\tbest: 0.8580350 (129)\ttotal: 1.11s\tremaining: 584ms\n",
      "140:\ttest: 0.8490628\ttest1: 0.8591242\tbest: 0.8593204 (134)\ttotal: 1.18s\tremaining: 495ms\n",
      "150:\ttest: 0.8491658\ttest1: 0.8589770\tbest: 0.8593204 (134)\ttotal: 1.26s\tremaining: 410ms\n",
      "160:\ttest: 0.8489967\ttest1: 0.8589868\tbest: 0.8593204 (134)\ttotal: 1.34s\tremaining: 324ms\n",
      "170:\ttest: 0.8494342\ttest1: 0.8589279\tbest: 0.8594872 (163)\ttotal: 1.41s\tremaining: 240ms\n",
      "180:\ttest: 0.8496612\ttest1: 0.8594676\tbest: 0.8594872 (163)\ttotal: 1.49s\tremaining: 157ms\n",
      "190:\ttest: 0.8507120\ttest1: 0.8644325\tbest: 0.8644325 (190)\ttotal: 1.57s\tremaining: 74ms\n",
      "199:\ttest: 0.8522237\ttest1: 0.8663066\tbest: 0.8664145 (198)\ttotal: 1.64s\tremaining: 0us\n",
      "\n",
      "bestTest = 0.8664144982\n",
      "bestIteration = 198\n",
      "\n",
      "Shrink model to first 199 iterations.\n"
     ]
    },
    {
     "data": {
      "text/plain": [
       "<catboost.core.CatBoostClassifier at 0x2208624dbb0>"
      ]
     },
     "execution_count": 71,
     "metadata": {},
     "output_type": "execute_result"
    }
   ],
   "source": [
    "# CatBoost Sklearn-API\n",
    "cb_params = {\n",
    "    \"n_estimators\": 200,\n",
    "    \"loss_function\": \"Logloss\",\n",
    "    \"eval_metric\": \"AUC\",\n",
    "    \"task_type\": \"CPU\",\n",
    "    \"max_bin\": 20,\n",
    "    \"verbose\": 10,\n",
    "    \"max_depth\": 6,\n",
    "    \"l2_leaf_reg\": 100,\n",
    "    \"early_stopping_rounds\": 75,\n",
    "    \"thread_count\": 6,\n",
    "    \"random_seed\": 42\n",
    "}\n",
    "\n",
    "model = cb.CatBoostClassifier(**cb_params)\n",
    "model.fit(x_train, y_train, eval_set=[(x_train, y_train), (x_valid, y_valid)])"
   ]
  },
  {
   "cell_type": "markdown",
   "metadata": {},
   "source": [
    "### Задание 9: обработать категориальные признаки встроенным методом в CatBoost. Выполнить задание 7. Сделать выводы о качестве работы алгоритма, по сравнению с пунктом 8."
   ]
  },
  {
   "cell_type": "code",
   "execution_count": 72,
   "metadata": {},
   "outputs": [],
   "source": [
    "train[categorical_features.columns] = train[categorical_features.columns].astype(str)"
   ]
  },
  {
   "cell_type": "code",
   "execution_count": 73,
   "metadata": {},
   "outputs": [
    {
     "name": "stdout",
     "output_type": "stream",
     "text": [
      "x_train.shape = 7376 rows, 393 cols\n",
      "x_valid.shape = 1845 rows, 393 cols\n"
     ]
    }
   ],
   "source": [
    "x_train, x_valid = train_test_split(\n",
    "    train.drop('isFraud', axis=1), train_size=0.8, random_state=1\n",
    ")\n",
    "y_train, y_valid = train_test_split(\n",
    "    train_target, train_size=0.8, random_state=1\n",
    ")\n",
    "print(\"x_train.shape = {} rows, {} cols\".format(*x_train.shape))\n",
    "print(\"x_valid.shape = {} rows, {} cols\".format(*x_valid.shape))"
   ]
  },
  {
   "cell_type": "code",
   "execution_count": 74,
   "metadata": {},
   "outputs": [
    {
     "name": "stdout",
     "output_type": "stream",
     "text": [
      "0:\ttest: 0.5559509\ttest1: 0.5519546\tbest: 0.5519546 (0)\ttotal: 45.4ms\tremaining: 9.04s\n",
      "10:\ttest: 0.6909485\ttest1: 0.7496370\tbest: 0.7496370 (10)\ttotal: 466ms\tremaining: 8.01s\n",
      "20:\ttest: 0.7121304\ttest1: 0.7608766\tbest: 0.7609649 (19)\ttotal: 899ms\tremaining: 7.66s\n",
      "30:\ttest: 0.7493936\ttest1: 0.7951646\tbest: 0.7953707 (28)\ttotal: 1.3s\tremaining: 7.08s\n",
      "40:\ttest: 0.7762710\ttest1: 0.8037452\tbest: 0.8037452 (40)\ttotal: 1.75s\tremaining: 6.77s\n",
      "50:\ttest: 0.7948618\ttest1: 0.8207494\tbest: 0.8207494 (50)\ttotal: 2.16s\tremaining: 6.3s\n",
      "60:\ttest: 0.8182112\ttest1: 0.8286138\tbest: 0.8294576 (55)\ttotal: 2.59s\tremaining: 5.91s\n",
      "70:\ttest: 0.8299022\ttest1: 0.8427578\tbest: 0.8427578 (70)\ttotal: 3.01s\tremaining: 5.47s\n",
      "80:\ttest: 0.8387196\ttest1: 0.8528396\tbest: 0.8528396 (80)\ttotal: 3.45s\tremaining: 5.06s\n",
      "90:\ttest: 0.8469382\ttest1: 0.8614055\tbest: 0.8614055 (90)\ttotal: 3.85s\tremaining: 4.61s\n",
      "100:\ttest: 0.8467694\ttest1: 0.8631128\tbest: 0.8632305 (99)\ttotal: 4.24s\tremaining: 4.15s\n",
      "110:\ttest: 0.8486163\ttest1: 0.8646631\tbest: 0.8646631 (110)\ttotal: 4.62s\tremaining: 3.71s\n",
      "120:\ttest: 0.8501084\ttest1: 0.8647808\tbest: 0.8649869 (113)\ttotal: 5.04s\tremaining: 3.29s\n",
      "130:\ttest: 0.8502663\ttest1: 0.8649182\tbest: 0.8649869 (113)\ttotal: 5.38s\tremaining: 2.84s\n",
      "140:\ttest: 0.8504448\ttest1: 0.8646140\tbest: 0.8650752 (134)\ttotal: 5.76s\tremaining: 2.41s\n",
      "150:\ttest: 0.8506094\ttest1: 0.8643393\tbest: 0.8650752 (134)\ttotal: 6.16s\tremaining: 2s\n",
      "160:\ttest: 0.8507489\ttest1: 0.8641626\tbest: 0.8650752 (134)\ttotal: 6.55s\tremaining: 1.59s\n",
      "170:\ttest: 0.8509631\ttest1: 0.8642313\tbest: 0.8650752 (134)\ttotal: 6.91s\tremaining: 1.17s\n",
      "180:\ttest: 0.8522252\ttest1: 0.8662820\tbest: 0.8663409 (179)\ttotal: 7.31s\tremaining: 768ms\n",
      "190:\ttest: 0.8528032\ttest1: 0.8663311\tbest: 0.8664685 (181)\ttotal: 7.69s\tremaining: 362ms\n",
      "199:\ttest: 0.8537139\ttest1: 0.8678814\tbest: 0.8679403 (195)\ttotal: 8.05s\tremaining: 0us\n",
      "\n",
      "bestTest = 0.8679402645\n",
      "bestIteration = 195\n",
      "\n",
      "Shrink model to first 196 iterations.\n"
     ]
    },
    {
     "data": {
      "text/plain": [
       "<catboost.core.CatBoostClassifier at 0x22086153220>"
      ]
     },
     "execution_count": 74,
     "metadata": {},
     "output_type": "execute_result"
    }
   ],
   "source": [
    "# CatBoost Sklearn-API\n",
    "cb_params = {\n",
    "    \"n_estimators\": 200,\n",
    "    \"loss_function\": \"Logloss\",\n",
    "    \"eval_metric\": \"AUC\",\n",
    "    \"task_type\": \"CPU\",\n",
    "    \"max_bin\": 20,\n",
    "    \"verbose\": 10,\n",
    "    \"max_depth\": 6,\n",
    "    \"l2_leaf_reg\": 100,\n",
    "    \"early_stopping_rounds\": 75,\n",
    "    \"thread_count\": 6,\n",
    "    \"random_seed\": 42\n",
    "}\n",
    "\n",
    "model = cb.CatBoostClassifier(**cb_params)\n",
    "model.fit(\n",
    "    X=x_train,\n",
    "    y=y_train,\n",
    "    eval_set=[(x_train, y_train), (x_valid, y_valid)],\n",
    "    cat_features=categorical_features.columns,\n",
    ")"
   ]
  },
  {
   "cell_type": "markdown",
   "metadata": {},
   "source": [
    "Выводы: Категориальные признаки добавляют качества модели. При явном указании Катбусту на эти категориальные признаки, качество еще лучше"
   ]
  },
  {
   "cell_type": "markdown",
   "metadata": {},
   "source": [
    "###  Задание 10: построить ROC-кривую для всех построенных алгоритмов на обучающей и тестовой выборке. Сделать выводы о работе алгоритмов с точки зрения качества на тестовой выборке и с точки зрения переобучения."
   ]
  },
  {
   "cell_type": "markdown",
   "metadata": {},
   "source": [
    "Не успел выполнить до конца"
   ]
  },
  {
   "cell_type": "code",
   "execution_count": null,
   "metadata": {},
   "outputs": [],
   "source": []
  }
 ],
 "metadata": {
  "kernelspec": {
   "display_name": "Python 3",
   "language": "python",
   "name": "python3"
  },
  "language_info": {
   "codemirror_mode": {
    "name": "ipython",
    "version": 3
   },
   "file_extension": ".py",
   "mimetype": "text/x-python",
   "name": "python",
   "nbconvert_exporter": "python",
   "pygments_lexer": "ipython3",
   "version": "3.8.3"
  }
 },
 "nbformat": 4,
 "nbformat_minor": 4
}
